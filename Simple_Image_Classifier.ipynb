{
 "cells": [
  {
   "cell_type": "code",
   "execution_count": 1,
   "metadata": {},
   "outputs": [
    {
     "name": "stderr",
     "output_type": "stream",
     "text": [
      "/home/chandrahas/anaconda3/lib/python3.6/site-packages/h5py/__init__.py:36: FutureWarning: Conversion of the second argument of issubdtype from `float` to `np.floating` is deprecated. In future, it will be treated as `np.float64 == np.dtype(float).type`.\n",
      "  from ._conv import register_converters as _register_converters\n",
      "Using TensorFlow backend.\n"
     ]
    }
   ],
   "source": [
    "%matplotlib inline\n",
    "import numpy as np\n",
    "import matplotlib\n",
    "from matplotlib import pyplot as plt\n",
    "from keras.models import Sequential\n",
    "from keras.optimizers import Adam\n",
    "from keras.callbacks import ModelCheckpoint\n",
    "from keras.models import load_model\n",
    "from keras.layers import Lambda, Conv2D, MaxPooling2D, Dropout, Dense, Flatten, Activation"
   ]
  },
  {
   "cell_type": "code",
   "execution_count": 2,
   "metadata": {},
   "outputs": [],
   "source": [
    "from util import get_class_names, get_train_data, get_test_data, plot_images, plot_model"
   ]
  },
  {
   "cell_type": "code",
   "execution_count": 3,
   "metadata": {},
   "outputs": [
    {
     "name": "stdout",
     "output_type": "stream",
     "text": [
      "Decoding file: data/batches.meta\n",
      "[b'airplane', b'automobile', b'bird', b'cat', b'deer', b'dog', b'frog', b'horse', b'ship', b'truck']\n",
      "['airplane', 'automobile', 'bird', 'cat', 'deer', 'dog', 'frog', 'horse', 'ship', 'truck']\n"
     ]
    }
   ],
   "source": [
    "raw,class_names = get_class_names()\n",
    "print(raw)\n",
    "print(class_names)"
   ]
  },
  {
   "cell_type": "code",
   "execution_count": 4,
   "metadata": {},
   "outputs": [
    {
     "name": "stdout",
     "output_type": "stream",
     "text": [
      "10\n"
     ]
    }
   ],
   "source": [
    "num_classes = len(class_names)\n",
    "print(num_classes)"
   ]
  },
  {
   "cell_type": "code",
   "execution_count": 5,
   "metadata": {},
   "outputs": [],
   "source": [
    "# Hight and width of the images\n",
    "IMAGE_SIZE = 32\n",
    "# 3 channels, Red, Green and Blue\n",
    "CHANNELS = 3"
   ]
  },
  {
   "cell_type": "markdown",
   "metadata": {},
   "source": [
    "Fetch and decode data\n",
    "--------"
   ]
  },
  {
   "cell_type": "markdown",
   "metadata": {},
   "source": [
    "Load the training dataset. Labels are integers whereas class is one-hot encoded vectors."
   ]
  },
  {
   "cell_type": "code",
   "execution_count": 6,
   "metadata": {},
   "outputs": [
    {
     "name": "stdout",
     "output_type": "stream",
     "text": [
      "Decoding file: data/data_batch_1\n",
      "Decoding file: data/data_batch_2\n",
      "Decoding file: data/data_batch_3\n",
      "Decoding file: data/data_batch_4\n",
      "Decoding file: data/data_batch_5\n"
     ]
    }
   ],
   "source": [
    "images_train, labels_train, class_train = get_train_data()"
   ]
  },
  {
   "cell_type": "code",
   "execution_count": 7,
   "metadata": {},
   "outputs": [
    {
     "name": "stdout",
     "output_type": "stream",
     "text": [
      "[6 9 9 ... 9 1 1]\n"
     ]
    }
   ],
   "source": [
    "print(labels_train)"
   ]
  },
  {
   "cell_type": "code",
   "execution_count": 8,
   "metadata": {},
   "outputs": [
    {
     "name": "stdout",
     "output_type": "stream",
     "text": [
      "[[0. 0. 0. ... 0. 0. 0.]\n",
      " [0. 0. 0. ... 0. 0. 1.]\n",
      " [0. 0. 0. ... 0. 0. 1.]\n",
      " ...\n",
      " [0. 0. 0. ... 0. 0. 1.]\n",
      " [0. 1. 0. ... 0. 0. 0.]\n",
      " [0. 1. 0. ... 0. 0. 0.]]\n"
     ]
    }
   ],
   "source": [
    "print(class_train)"
   ]
  },
  {
   "cell_type": "code",
   "execution_count": 9,
   "metadata": {},
   "outputs": [
    {
     "name": "stdout",
     "output_type": "stream",
     "text": [
      "Decoding file: data/test_batch\n"
     ]
    }
   ],
   "source": [
    "images_test, labels_test, class_test = get_test_data()"
   ]
  },
  {
   "cell_type": "code",
   "execution_count": 10,
   "metadata": {},
   "outputs": [
    {
     "name": "stdout",
     "output_type": "stream",
     "text": [
      "Training set size:\t 50000\n",
      "Testing set size:\t 10000\n"
     ]
    }
   ],
   "source": [
    "print(\"Training set size:\\t\",len(images_train))\n",
    "print(\"Testing set size:\\t\",len(images_test))"
   ]
  },
  {
   "cell_type": "markdown",
   "metadata": {},
   "source": [
    "Now, The dataset has been loaded."
   ]
  },
  {
   "cell_type": "markdown",
   "metadata": {},
   "source": [
    "Simple CNN model\n",
    "--------------------"
   ]
  },
  {
   "cell_type": "code",
   "execution_count": 11,
   "metadata": {},
   "outputs": [],
   "source": [
    "def cnn_model():\n",
    "    \n",
    "    model = Sequential()\n",
    "    \n",
    "    model.add(Conv2D(32, (3, 3), activation='relu', padding='same', input_shape=(IMAGE_SIZE,IMAGE_SIZE,CHANNELS)))    \n",
    "    model.add(Conv2D(32, (3, 3), activation='relu'))    \n",
    "    model.add(MaxPooling2D(pool_size=(2, 2)))\n",
    "    model.add(Dropout(0.25))\n",
    "\n",
    "    \n",
    "    model.add(Conv2D(64, (3, 3), activation='relu', padding='same'))    \n",
    "    model.add(Conv2D(64, (3, 3), activation='relu'))\n",
    "    model.add(MaxPooling2D(pool_size=(2, 2)))\n",
    "    model.add(Dropout(0.25))\n",
    "\n",
    "    model.add(Flatten())\n",
    "    \n",
    "    model.add(Dense(512, activation='relu'))\n",
    "    model.add(Dropout(0.5))\n",
    "    \n",
    "    model.add(Dense(num_classes, activation='softmax'))\n",
    "    \n",
    "    model.summary()\n",
    "    \n",
    "    return model"
   ]
  },
  {
   "cell_type": "code",
   "execution_count": 12,
   "metadata": {},
   "outputs": [
    {
     "name": "stdout",
     "output_type": "stream",
     "text": [
      "_________________________________________________________________\n",
      "Layer (type)                 Output Shape              Param #   \n",
      "=================================================================\n",
      "conv2d_1 (Conv2D)            (None, 32, 32, 32)        896       \n",
      "_________________________________________________________________\n",
      "conv2d_2 (Conv2D)            (None, 30, 30, 32)        9248      \n",
      "_________________________________________________________________\n",
      "max_pooling2d_1 (MaxPooling2 (None, 15, 15, 32)        0         \n",
      "_________________________________________________________________\n",
      "dropout_1 (Dropout)          (None, 15, 15, 32)        0         \n",
      "_________________________________________________________________\n",
      "conv2d_3 (Conv2D)            (None, 15, 15, 64)        18496     \n",
      "_________________________________________________________________\n",
      "conv2d_4 (Conv2D)            (None, 13, 13, 64)        36928     \n",
      "_________________________________________________________________\n",
      "max_pooling2d_2 (MaxPooling2 (None, 6, 6, 64)          0         \n",
      "_________________________________________________________________\n",
      "dropout_2 (Dropout)          (None, 6, 6, 64)          0         \n",
      "_________________________________________________________________\n",
      "flatten_1 (Flatten)          (None, 2304)              0         \n",
      "_________________________________________________________________\n",
      "dense_1 (Dense)              (None, 512)               1180160   \n",
      "_________________________________________________________________\n",
      "dropout_3 (Dropout)          (None, 512)               0         \n",
      "_________________________________________________________________\n",
      "dense_2 (Dense)              (None, 10)                5130      \n",
      "=================================================================\n",
      "Total params: 1,250,858\n",
      "Trainable params: 1,250,858\n",
      "Non-trainable params: 0\n",
      "_________________________________________________________________\n"
     ]
    }
   ],
   "source": [
    "# Building the model\n",
    "model = cnn_model()"
   ]
  },
  {
   "cell_type": "markdown",
   "metadata": {},
   "source": [
    "Tranining the model\n",
    "--"
   ]
  },
  {
   "cell_type": "markdown",
   "metadata": {},
   "source": [
    "Saving the model after every epoch"
   ]
  },
  {
   "cell_type": "code",
   "execution_count": 13,
   "metadata": {},
   "outputs": [],
   "source": [
    "checkpoint = ModelCheckpoint('best_model_simple.h5',  # model filename\n",
    "                             monitor='val_loss', # quantity to monitor\n",
    "                             verbose=0, # verbosity - 0 or 1\n",
    "                             save_best_only= True, # The latest best model will not be overwritten\n",
    "                             mode='auto') # The decision to overwrite model is made \n",
    "                                          # automatically depending on the quantity to monitor"
   ]
  },
  {
   "cell_type": "markdown",
   "metadata": {},
   "source": [
    "Configuring model for training"
   ]
  },
  {
   "cell_type": "code",
   "execution_count": 14,
   "metadata": {},
   "outputs": [],
   "source": [
    "model.compile(loss='categorical_crossentropy', # Better loss function for neural networks\n",
    "              optimizer=Adam(lr=1.0e-4), # Adam optimizer with 1.0e-4 learning rate\n",
    "              metrics = ['accuracy']) # Metrics to be evaluated by the model"
   ]
  },
  {
   "cell_type": "markdown",
   "metadata": {},
   "source": [
    "Fitting the model"
   ]
  },
  {
   "cell_type": "code",
   "execution_count": 15,
   "metadata": {},
   "outputs": [
    {
     "name": "stdout",
     "output_type": "stream",
     "text": [
      "Train on 50000 samples, validate on 10000 samples\n",
      "Epoch 1/100\n",
      "50000/50000 [==============================] - 79s 2ms/step - loss: 1.9549 - acc: 0.2742 - val_loss: 1.6115 - val_acc: 0.4155\n",
      "Epoch 2/100\n",
      "50000/50000 [==============================] - 79s 2ms/step - loss: 1.5874 - acc: 0.4152 - val_loss: 1.4540 - val_acc: 0.4674\n",
      "Epoch 3/100\n",
      "50000/50000 [==============================] - 80s 2ms/step - loss: 1.4651 - acc: 0.4660 - val_loss: 1.3704 - val_acc: 0.4984\n",
      "Epoch 4/100\n",
      "50000/50000 [==============================] - 81s 2ms/step - loss: 1.3924 - acc: 0.4963 - val_loss: 1.2909 - val_acc: 0.5413\n",
      "Epoch 5/100\n",
      "50000/50000 [==============================] - 80s 2ms/step - loss: 1.3316 - acc: 0.5232 - val_loss: 1.2446 - val_acc: 0.5577\n",
      "Epoch 6/100\n",
      "50000/50000 [==============================] - 83s 2ms/step - loss: 1.2818 - acc: 0.5418 - val_loss: 1.1830 - val_acc: 0.5856\n",
      "Epoch 7/100\n",
      "50000/50000 [==============================] - 83s 2ms/step - loss: 1.2395 - acc: 0.5566 - val_loss: 1.1558 - val_acc: 0.5898\n",
      "Epoch 8/100\n",
      "50000/50000 [==============================] - 83s 2ms/step - loss: 1.1963 - acc: 0.5748 - val_loss: 1.1201 - val_acc: 0.6083\n",
      "Epoch 9/100\n",
      "50000/50000 [==============================] - 83s 2ms/step - loss: 1.1588 - acc: 0.5897 - val_loss: 1.0763 - val_acc: 0.6201\n",
      "Epoch 10/100\n",
      "50000/50000 [==============================] - 83s 2ms/step - loss: 1.1238 - acc: 0.6018 - val_loss: 1.0354 - val_acc: 0.6371\n",
      "Epoch 11/100\n",
      "50000/50000 [==============================] - 84s 2ms/step - loss: 1.0876 - acc: 0.6170 - val_loss: 1.0224 - val_acc: 0.6400\n",
      "Epoch 12/100\n",
      "50000/50000 [==============================] - 82s 2ms/step - loss: 1.0624 - acc: 0.6271 - val_loss: 0.9973 - val_acc: 0.6489\n",
      "Epoch 13/100\n",
      "50000/50000 [==============================] - 84s 2ms/step - loss: 1.0335 - acc: 0.6361 - val_loss: 0.9856 - val_acc: 0.6542\n",
      "Epoch 14/100\n",
      "50000/50000 [==============================] - 84s 2ms/step - loss: 1.0080 - acc: 0.6460 - val_loss: 0.9506 - val_acc: 0.6674\n",
      "Epoch 15/100\n",
      "50000/50000 [==============================] - 84s 2ms/step - loss: 0.9829 - acc: 0.6558 - val_loss: 0.9178 - val_acc: 0.6771\n",
      "Epoch 16/100\n",
      "50000/50000 [==============================] - 85s 2ms/step - loss: 0.9603 - acc: 0.6625 - val_loss: 0.9021 - val_acc: 0.6852\n",
      "Epoch 17/100\n",
      "50000/50000 [==============================] - 85s 2ms/step - loss: 0.9384 - acc: 0.6724 - val_loss: 0.8986 - val_acc: 0.6862\n",
      "Epoch 18/100\n",
      "50000/50000 [==============================] - 84s 2ms/step - loss: 0.9206 - acc: 0.6774 - val_loss: 0.8796 - val_acc: 0.6919\n",
      "Epoch 19/100\n",
      "50000/50000 [==============================] - 84s 2ms/step - loss: 0.9020 - acc: 0.6844 - val_loss: 0.8523 - val_acc: 0.7030\n",
      "Epoch 20/100\n",
      "50000/50000 [==============================] - 84s 2ms/step - loss: 0.8827 - acc: 0.6906 - val_loss: 0.8441 - val_acc: 0.7046\n",
      "Epoch 21/100\n",
      "50000/50000 [==============================] - 84s 2ms/step - loss: 0.8671 - acc: 0.6999 - val_loss: 0.8311 - val_acc: 0.7155\n",
      "Epoch 22/100\n",
      "50000/50000 [==============================] - 84s 2ms/step - loss: 0.8487 - acc: 0.7052 - val_loss: 0.8289 - val_acc: 0.7149\n",
      "Epoch 23/100\n",
      "50000/50000 [==============================] - 84s 2ms/step - loss: 0.8291 - acc: 0.7084 - val_loss: 0.8192 - val_acc: 0.7180\n",
      "Epoch 24/100\n",
      "50000/50000 [==============================] - 84s 2ms/step - loss: 0.8175 - acc: 0.7153 - val_loss: 0.8036 - val_acc: 0.7231\n",
      "Epoch 25/100\n",
      "50000/50000 [==============================] - 84s 2ms/step - loss: 0.7989 - acc: 0.7173 - val_loss: 0.7894 - val_acc: 0.7256\n",
      "Epoch 26/100\n",
      "50000/50000 [==============================] - 84s 2ms/step - loss: 0.7835 - acc: 0.7274 - val_loss: 0.7722 - val_acc: 0.7325\n",
      "Epoch 27/100\n",
      "50000/50000 [==============================] - 89s 2ms/step - loss: 0.7678 - acc: 0.7314 - val_loss: 0.7729 - val_acc: 0.7355\n",
      "Epoch 28/100\n",
      "50000/50000 [==============================] - 94s 2ms/step - loss: 0.7522 - acc: 0.7354 - val_loss: 0.7736 - val_acc: 0.7326\n",
      "Epoch 29/100\n",
      "50000/50000 [==============================] - 81s 2ms/step - loss: 0.7446 - acc: 0.7405 - val_loss: 0.7487 - val_acc: 0.7389\n",
      "Epoch 30/100\n",
      "50000/50000 [==============================] - 81s 2ms/step - loss: 0.7279 - acc: 0.7467 - val_loss: 0.7470 - val_acc: 0.7432\n",
      "Epoch 31/100\n",
      "50000/50000 [==============================] - 81s 2ms/step - loss: 0.7126 - acc: 0.7513 - val_loss: 0.7317 - val_acc: 0.7469\n",
      "Epoch 32/100\n",
      "50000/50000 [==============================] - 82s 2ms/step - loss: 0.7046 - acc: 0.7501 - val_loss: 0.7365 - val_acc: 0.7474\n",
      "Epoch 33/100\n",
      "50000/50000 [==============================] - 82s 2ms/step - loss: 0.6954 - acc: 0.7589 - val_loss: 0.7215 - val_acc: 0.7511\n",
      "Epoch 34/100\n",
      "50000/50000 [==============================] - 82s 2ms/step - loss: 0.6809 - acc: 0.7614 - val_loss: 0.7096 - val_acc: 0.7535\n",
      "Epoch 35/100\n",
      "50000/50000 [==============================] - 82s 2ms/step - loss: 0.6701 - acc: 0.7669 - val_loss: 0.7111 - val_acc: 0.7540\n",
      "Epoch 36/100\n",
      "50000/50000 [==============================] - 81s 2ms/step - loss: 0.6595 - acc: 0.7702 - val_loss: 0.6957 - val_acc: 0.7602\n",
      "Epoch 37/100\n",
      "50000/50000 [==============================] - 82s 2ms/step - loss: 0.6445 - acc: 0.7738 - val_loss: 0.6963 - val_acc: 0.7596\n",
      "Epoch 38/100\n",
      "50000/50000 [==============================] - 82s 2ms/step - loss: 0.6356 - acc: 0.7787 - val_loss: 0.6899 - val_acc: 0.7596\n",
      "Epoch 39/100\n",
      "50000/50000 [==============================] - 82s 2ms/step - loss: 0.6274 - acc: 0.7794 - val_loss: 0.6964 - val_acc: 0.7570\n",
      "Epoch 40/100\n",
      "50000/50000 [==============================] - 82s 2ms/step - loss: 0.6160 - acc: 0.7847 - val_loss: 0.6825 - val_acc: 0.7644\n",
      "Epoch 41/100\n",
      "50000/50000 [==============================] - 82s 2ms/step - loss: 0.6091 - acc: 0.7861 - val_loss: 0.6828 - val_acc: 0.7622\n",
      "Epoch 42/100\n",
      "50000/50000 [==============================] - 82s 2ms/step - loss: 0.5957 - acc: 0.7916 - val_loss: 0.6678 - val_acc: 0.7664\n",
      "Epoch 43/100\n",
      "50000/50000 [==============================] - 82s 2ms/step - loss: 0.5841 - acc: 0.7944 - val_loss: 0.6740 - val_acc: 0.7675\n",
      "Epoch 44/100\n",
      "50000/50000 [==============================] - 82s 2ms/step - loss: 0.5800 - acc: 0.7972 - val_loss: 0.6618 - val_acc: 0.7719\n",
      "Epoch 45/100\n",
      "50000/50000 [==============================] - 82s 2ms/step - loss: 0.5711 - acc: 0.7999 - val_loss: 0.6617 - val_acc: 0.7731\n",
      "Epoch 46/100\n",
      "50000/50000 [==============================] - 82s 2ms/step - loss: 0.5595 - acc: 0.8037 - val_loss: 0.6560 - val_acc: 0.7754\n",
      "Epoch 47/100\n",
      "50000/50000 [==============================] - 85s 2ms/step - loss: 0.5507 - acc: 0.8062 - val_loss: 0.6549 - val_acc: 0.7729\n",
      "Epoch 48/100\n",
      "50000/50000 [==============================] - 83s 2ms/step - loss: 0.5474 - acc: 0.8080 - val_loss: 0.6523 - val_acc: 0.7748\n",
      "Epoch 49/100\n",
      "50000/50000 [==============================] - 82s 2ms/step - loss: 0.5347 - acc: 0.8126 - val_loss: 0.6456 - val_acc: 0.7769\n",
      "Epoch 50/100\n",
      "50000/50000 [==============================] - 82s 2ms/step - loss: 0.5253 - acc: 0.8170 - val_loss: 0.6415 - val_acc: 0.7762\n",
      "Epoch 51/100\n",
      "50000/50000 [==============================] - 82s 2ms/step - loss: 0.5215 - acc: 0.8153 - val_loss: 0.6495 - val_acc: 0.7786\n",
      "Epoch 52/100\n",
      "50000/50000 [==============================] - 82s 2ms/step - loss: 0.5137 - acc: 0.8197 - val_loss: 0.6448 - val_acc: 0.7796\n",
      "Epoch 53/100\n",
      "50000/50000 [==============================] - 82s 2ms/step - loss: 0.5034 - acc: 0.8228 - val_loss: 0.6445 - val_acc: 0.7786\n",
      "Epoch 54/100\n",
      "50000/50000 [==============================] - 83s 2ms/step - loss: 0.4968 - acc: 0.8245 - val_loss: 0.6410 - val_acc: 0.7829\n",
      "Epoch 55/100\n",
      "50000/50000 [==============================] - 83s 2ms/step - loss: 0.4817 - acc: 0.8307 - val_loss: 0.6414 - val_acc: 0.7806\n",
      "Epoch 56/100\n",
      "50000/50000 [==============================] - 82s 2ms/step - loss: 0.4850 - acc: 0.8297 - val_loss: 0.6361 - val_acc: 0.7864\n",
      "Epoch 57/100\n",
      "50000/50000 [==============================] - 83s 2ms/step - loss: 0.4767 - acc: 0.8308 - val_loss: 0.6335 - val_acc: 0.7821\n",
      "Epoch 58/100\n",
      "50000/50000 [==============================] - 82s 2ms/step - loss: 0.4673 - acc: 0.8343 - val_loss: 0.6403 - val_acc: 0.7845\n",
      "Epoch 59/100\n"
     ]
    },
    {
     "name": "stdout",
     "output_type": "stream",
     "text": [
      "50000/50000 [==============================] - 82s 2ms/step - loss: 0.4589 - acc: 0.8377 - val_loss: 0.6299 - val_acc: 0.7866\n",
      "Epoch 60/100\n",
      "50000/50000 [==============================] - 83s 2ms/step - loss: 0.4497 - acc: 0.8400 - val_loss: 0.6400 - val_acc: 0.7802\n",
      "Epoch 61/100\n",
      "50000/50000 [==============================] - 82s 2ms/step - loss: 0.4460 - acc: 0.8434 - val_loss: 0.6283 - val_acc: 0.7869\n",
      "Epoch 62/100\n",
      "50000/50000 [==============================] - 82s 2ms/step - loss: 0.4371 - acc: 0.8441 - val_loss: 0.6323 - val_acc: 0.7850\n",
      "Epoch 63/100\n",
      "50000/50000 [==============================] - 82s 2ms/step - loss: 0.4342 - acc: 0.8461 - val_loss: 0.6238 - val_acc: 0.7886\n",
      "Epoch 64/100\n",
      "50000/50000 [==============================] - 83s 2ms/step - loss: 0.4247 - acc: 0.8492 - val_loss: 0.6306 - val_acc: 0.7880\n",
      "Epoch 65/100\n",
      "50000/50000 [==============================] - 82s 2ms/step - loss: 0.4220 - acc: 0.8515 - val_loss: 0.6270 - val_acc: 0.7861\n",
      "Epoch 66/100\n",
      "50000/50000 [==============================] - 83s 2ms/step - loss: 0.4104 - acc: 0.8557 - val_loss: 0.6270 - val_acc: 0.7895\n",
      "Epoch 67/100\n",
      "50000/50000 [==============================] - 82s 2ms/step - loss: 0.4060 - acc: 0.8556 - val_loss: 0.6334 - val_acc: 0.7884\n",
      "Epoch 68/100\n",
      "50000/50000 [==============================] - 84s 2ms/step - loss: 0.4023 - acc: 0.8559 - val_loss: 0.6360 - val_acc: 0.7871\n",
      "Epoch 69/100\n",
      "50000/50000 [==============================] - 85s 2ms/step - loss: 0.3935 - acc: 0.8603 - val_loss: 0.6402 - val_acc: 0.7873\n",
      "Epoch 70/100\n",
      "50000/50000 [==============================] - 86s 2ms/step - loss: 0.3911 - acc: 0.8604 - val_loss: 0.6313 - val_acc: 0.7886\n",
      "Epoch 71/100\n",
      "50000/50000 [==============================] - 85s 2ms/step - loss: 0.3859 - acc: 0.8604 - val_loss: 0.6274 - val_acc: 0.7887\n",
      "Epoch 72/100\n",
      "50000/50000 [==============================] - 85s 2ms/step - loss: 0.3745 - acc: 0.8663 - val_loss: 0.6394 - val_acc: 0.7882\n",
      "Epoch 73/100\n",
      "50000/50000 [==============================] - 85s 2ms/step - loss: 0.3759 - acc: 0.8662 - val_loss: 0.6369 - val_acc: 0.7889\n",
      "Epoch 74/100\n",
      "50000/50000 [==============================] - 85s 2ms/step - loss: 0.3712 - acc: 0.8689 - val_loss: 0.6390 - val_acc: 0.7900\n",
      "Epoch 75/100\n",
      "50000/50000 [==============================] - 85s 2ms/step - loss: 0.3625 - acc: 0.8730 - val_loss: 0.6347 - val_acc: 0.7884\n",
      "Epoch 76/100\n",
      "50000/50000 [==============================] - 85s 2ms/step - loss: 0.3591 - acc: 0.8713 - val_loss: 0.6378 - val_acc: 0.7864\n",
      "Epoch 77/100\n",
      "50000/50000 [==============================] - 85s 2ms/step - loss: 0.3527 - acc: 0.8734 - val_loss: 0.6418 - val_acc: 0.7860\n",
      "Epoch 78/100\n",
      "50000/50000 [==============================] - 85s 2ms/step - loss: 0.3496 - acc: 0.8733 - val_loss: 0.6399 - val_acc: 0.7916\n",
      "Epoch 79/100\n",
      "50000/50000 [==============================] - 85s 2ms/step - loss: 0.3397 - acc: 0.8803 - val_loss: 0.6309 - val_acc: 0.7911\n",
      "Epoch 80/100\n",
      "50000/50000 [==============================] - 85s 2ms/step - loss: 0.3401 - acc: 0.8784 - val_loss: 0.6405 - val_acc: 0.7916\n",
      "Epoch 81/100\n",
      "50000/50000 [==============================] - 85s 2ms/step - loss: 0.3349 - acc: 0.8803 - val_loss: 0.6365 - val_acc: 0.7918\n",
      "Epoch 82/100\n",
      "50000/50000 [==============================] - 85s 2ms/step - loss: 0.3343 - acc: 0.8807 - val_loss: 0.6335 - val_acc: 0.7931\n",
      "Epoch 83/100\n",
      "50000/50000 [==============================] - 85s 2ms/step - loss: 0.3313 - acc: 0.8819 - val_loss: 0.6479 - val_acc: 0.7937\n",
      "Epoch 84/100\n",
      "50000/50000 [==============================] - 86s 2ms/step - loss: 0.3211 - acc: 0.8863 - val_loss: 0.6393 - val_acc: 0.7909\n",
      "Epoch 85/100\n",
      "50000/50000 [==============================] - 85s 2ms/step - loss: 0.3153 - acc: 0.8885 - val_loss: 0.6374 - val_acc: 0.7932\n",
      "Epoch 86/100\n",
      "50000/50000 [==============================] - 85s 2ms/step - loss: 0.3176 - acc: 0.8853 - val_loss: 0.6359 - val_acc: 0.7942\n",
      "Epoch 87/100\n",
      "50000/50000 [==============================] - 86s 2ms/step - loss: 0.3102 - acc: 0.8883 - val_loss: 0.6468 - val_acc: 0.7919\n",
      "Epoch 88/100\n",
      "50000/50000 [==============================] - 85s 2ms/step - loss: 0.3062 - acc: 0.8911 - val_loss: 0.6565 - val_acc: 0.7900\n",
      "Epoch 89/100\n",
      "50000/50000 [==============================] - 85s 2ms/step - loss: 0.3007 - acc: 0.8928 - val_loss: 0.6504 - val_acc: 0.7957\n",
      "Epoch 90/100\n",
      "50000/50000 [==============================] - 86s 2ms/step - loss: 0.2985 - acc: 0.8936 - val_loss: 0.6449 - val_acc: 0.7937\n",
      "Epoch 91/100\n",
      "50000/50000 [==============================] - 87s 2ms/step - loss: 0.2928 - acc: 0.8954 - val_loss: 0.6446 - val_acc: 0.7931\n",
      "Epoch 92/100\n",
      "50000/50000 [==============================] - 86s 2ms/step - loss: 0.2923 - acc: 0.8979 - val_loss: 0.6533 - val_acc: 0.7943\n",
      "Epoch 93/100\n",
      "50000/50000 [==============================] - 86s 2ms/step - loss: 0.2848 - acc: 0.8979 - val_loss: 0.6463 - val_acc: 0.7961\n",
      "Epoch 94/100\n",
      "50000/50000 [==============================] - 86s 2ms/step - loss: 0.2822 - acc: 0.8981 - val_loss: 0.6574 - val_acc: 0.7954\n",
      "Epoch 95/100\n",
      "50000/50000 [==============================] - 86s 2ms/step - loss: 0.2798 - acc: 0.9004 - val_loss: 0.6522 - val_acc: 0.7930\n",
      "Epoch 96/100\n",
      "50000/50000 [==============================] - 86s 2ms/step - loss: 0.2729 - acc: 0.9027 - val_loss: 0.6539 - val_acc: 0.7951\n",
      "Epoch 97/100\n",
      "50000/50000 [==============================] - 86s 2ms/step - loss: 0.2749 - acc: 0.9010 - val_loss: 0.6646 - val_acc: 0.7922\n",
      "Epoch 98/100\n",
      "50000/50000 [==============================] - 86s 2ms/step - loss: 0.2707 - acc: 0.9025 - val_loss: 0.6618 - val_acc: 0.7931\n",
      "Epoch 99/100\n",
      "50000/50000 [==============================] - 86s 2ms/step - loss: 0.2724 - acc: 0.9020 - val_loss: 0.6532 - val_acc: 0.7972\n",
      "Epoch 100/100\n",
      "50000/50000 [==============================] - 86s 2ms/step - loss: 0.2684 - acc: 0.9025 - val_loss: 0.6545 - val_acc: 0.7949\n"
     ]
    }
   ],
   "source": [
    "model_details = model.fit(images_train, class_train,\n",
    "                    batch_size = 128, # number of samples per gradient update\n",
    "                    epochs = 100, # number of iterations\n",
    "                    validation_data= (images_test, class_test),\n",
    "                    callbacks=[checkpoint],\n",
    "                    verbose=1)"
   ]
  },
  {
   "cell_type": "code",
   "execution_count": 16,
   "metadata": {},
   "outputs": [
    {
     "name": "stdout",
     "output_type": "stream",
     "text": [
      "Accuracy: 79.49%\n"
     ]
    }
   ],
   "source": [
    "scores = model.evaluate(images_test, class_test, verbose=0)\n",
    "print(\"Accuracy: %.2f%%\" % (scores[1]*100))"
   ]
  },
  {
   "cell_type": "code",
   "execution_count": 17,
   "metadata": {},
   "outputs": [
    {
     "data": {
      "image/png": "[encoded data removed]",
      "text/plain": [
       "<Figure size 1080x360 with 2 Axes>"
      ]
     },
     "metadata": {},
     "output_type": "display_data"
    }
   ],
   "source": [
    "plot_model(model_details)"
   ]
  },
  {
   "cell_type": "code",
   "execution_count": 18,
   "metadata": {},
   "outputs": [
    {
     "name": "stdout",
     "output_type": "stream",
     "text": [
      "[3.1877487e-04 5.2080570e-05 7.7033212e-04 6.2706959e-01 1.8469931e-05\n",
      " 3.6764145e-01 2.5785859e-03 7.1907422e-04 8.2654378e-04 5.0723629e-06]\n"
     ]
    }
   ],
   "source": [
    "class_pred = model.predict(images_test, batch_size=32)\n",
    "print(class_pred[0])"
   ]
  },
  {
   "cell_type": "code",
   "execution_count": 19,
   "metadata": {},
   "outputs": [
    {
     "name": "stdout",
     "output_type": "stream",
     "text": [
      "[3 8 8 ... 5 1 7]\n"
     ]
    }
   ],
   "source": [
    "labels_pred = np.argmax(class_pred,axis=1)\n",
    "print(labels_pred)"
   ]
  },
  {
   "cell_type": "code",
   "execution_count": 20,
   "metadata": {},
   "outputs": [
    {
     "name": "stdout",
     "output_type": "stream",
     "text": [
      "[ True  True  True ...  True  True  True]\n",
      "Number of correct predictions: 7949\n"
     ]
    }
   ],
   "source": [
    "correct = (labels_pred == labels_test)\n",
    "print(correct)\n",
    "print(\"Number of correct predictions: %d\" % sum(correct))"
   ]
  },
  {
   "cell_type": "code",
   "execution_count": 21,
   "metadata": {},
   "outputs": [
    {
     "name": "stdout",
     "output_type": "stream",
     "text": [
      "Accuracy: 79.49%\n"
     ]
    }
   ],
   "source": [
    "num_images = len(correct)\n",
    "print(\"Accuracy: %.2f%%\" % ((sum(correct)*100)/num_images))"
   ]
  },
  {
   "cell_type": "code",
   "execution_count": null,
   "metadata": {},
   "outputs": [],
   "source": []
  }
 ],
 "metadata": {
  "kernelspec": {
   "display_name": "Python 3",
   "language": "python",
   "name": "python3"
  },
  "language_info": {
   "codemirror_mode": {
    "name": "ipython",
    "version": 3
   },
   "file_extension": ".py",
   "mimetype": "text/x-python",
   "name": "python",
   "nbconvert_exporter": "python",
   "pygments_lexer": "ipython3",
   "version": "3.6.5"
  }
 },
 "nbformat": 4,
 "nbformat_minor": 2
}
