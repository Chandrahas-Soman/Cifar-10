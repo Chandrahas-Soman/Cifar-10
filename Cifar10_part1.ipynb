{
  "nbformat": 4,
  "nbformat_minor": 0,
  "metadata": {
    "colab": {
      "name": "Project1_part1.ipynb",
      "version": "0.3.2",
      "provenance": []
    },
    "kernelspec": {
      "name": "python3",
      "display_name": "Python 3"
    }
  },
  "cells": [
    {
      "metadata": {
        "id": "rx7VaTgm3MiL",
        "colab_type": "text"
      },
      "cell_type": "markdown",
      "source": [
        "EE258 Project1 code"
      ]
    },
    {
      "metadata": {
        "id": "12IviFBpz_UJ",
        "colab_type": "code",
        "colab": {}
      },
      "cell_type": "code",
      "source": [
        "import tensorflow as tf\n",
        "import matplotlib.pyplot as plt"
      ],
      "execution_count": 0,
      "outputs": []
    },
    {
      "metadata": {
        "id": "-aDsElNy0G1y",
        "colab_type": "code",
        "colab": {}
      },
      "cell_type": "code",
      "source": [
        "# load the data \n",
        "cifar10 = tf.keras.datasets.cifar10"
      ],
      "execution_count": 0,
      "outputs": []
    },
    {
      "metadata": {
        "id": "drH16iUc1tVT",
        "colab_type": "code",
        "colab": {
          "base_uri": "https://localhost:8080/",
          "height": 35
        },
        "outputId": "2a000e3f-f157-4654-c352-177cc2e03115"
      },
      "cell_type": "code",
      "source": [
        "type(cifar10)"
      ],
      "execution_count": 5,
      "outputs": [
        {
          "output_type": "execute_result",
          "data": {
            "text/plain": [
              "module"
            ]
          },
          "metadata": {
            "tags": []
          },
          "execution_count": 5
        }
      ]
    },
    {
      "metadata": {
        "id": "OlD_wPv_128T",
        "colab_type": "code",
        "colab": {
          "base_uri": "https://localhost:8080/",
          "height": 54
        },
        "outputId": "ca83da5e-0341-46d3-8540-47ab9e4605de"
      },
      "cell_type": "code",
      "source": [
        "# load the test and training data into seperate variables\n",
        "(x_train, y_train),(x_test, y_test) = cifar10.load_data()"
      ],
      "execution_count": 6,
      "outputs": [
        {
          "output_type": "stream",
          "text": [
            "Downloading data from https://www.cs.toronto.edu/~kriz/cifar-10-python.tar.gz\n",
            "170500096/170498071 [==============================] - 25s 0us/step\n"
          ],
          "name": "stdout"
        }
      ]
    },
    {
      "metadata": {
        "id": "5h0thmw73D6j",
        "colab_type": "code",
        "colab": {
          "base_uri": "https://localhost:8080/",
          "height": 54
        },
        "outputId": "2d5b1431-1ad0-4ad1-f14e-5585f3211f49"
      },
      "cell_type": "code",
      "source": [
        "# Print the shapr of the training data and test data\n",
        "print(x_train.shape)\n",
        "print(x_test.shape)"
      ],
      "execution_count": 7,
      "outputs": [
        {
          "output_type": "stream",
          "text": [
            "(50000, 32, 32, 3)\n",
            "(10000, 32, 32, 3)\n"
          ],
          "name": "stdout"
        }
      ]
    },
    {
      "metadata": {
        "id": "Z_8Fs6V13HAI",
        "colab_type": "code",
        "colab": {
          "base_uri": "https://localhost:8080/",
          "height": 347
        },
        "outputId": "70b16a16-f65b-4745-f516-4eba966cfb5d"
      },
      "cell_type": "code",
      "source": [
        "plt.imshow(x_train[0])\n",
        "plt.axis('off')\n",
        "plt.show()"
      ],
      "execution_count": 9,
      "outputs": [
        {
          "output_type": "display_data",
          "data": {
            "image/png": "[encoded data removed]",
            "text/plain": [
              "<matplotlib.figure.Figure at 0x7fc792df7e80>"
            ]
          },
          "metadata": {
            "tags": []
          }
        }
      ]
    },
    {
      "metadata": {
        "id": "PWi04e4a4AEv",
        "colab_type": "text"
      },
      "cell_type": "markdown",
      "source": [
        "**Developing a baseline model**"
      ]
    },
    {
      "metadata": {
        "id": "Boq0tw0b49-b",
        "colab_type": "text"
      },
      "cell_type": "markdown",
      "source": [
        "Choosing 3072 - 256 - 256 - 10 MLP model with ReLU and Softmax activation for baseline."
      ]
    },
    {
      "metadata": {
        "id": "Ps4q-ezF3-_X",
        "colab_type": "code",
        "colab": {}
      },
      "cell_type": "code",
      "source": [
        "# Creating a feed forward model \n",
        "model = tf.keras.models.Sequential()\n",
        "\n",
        "# Flatten the image by taking 32*32*3 inputs\n",
        "model.add(tf.keras.layers.Flatten(input_shape=(32, 32, 3)))\n",
        "\n",
        "# create a model with 3 hidden layers 328, 328 and 42 neurons respectively\n",
        "# use relu activation function in all the neurons \n",
        "model.add(tf.keras.layers.Dense(256, activation=tf.nn.relu))\n",
        "model.add(tf.keras.layers.Dense(256, activation=tf.nn.relu))\n",
        "\n",
        "# use softmax activation function in the output layer\n",
        "model.add(tf.keras.layers.Dense(10, activation=tf.nn.softmax))"
      ],
      "execution_count": 0,
      "outputs": []
    },
    {
      "metadata": {
        "id": "YLzsoFoQ5mmY",
        "colab_type": "code",
        "colab": {}
      },
      "cell_type": "code",
      "source": [
        "# compile using stochastic gradient descent optimizer\n",
        "# use sparse_categorical_crossentropy as a metric for loss\n",
        "# use accuracy as a metric\n",
        "model.compile(optimizer='sgd',\n",
        "              loss='sparse_categorical_crossentropy',\n",
        "              metrics=['accuracy'])"
      ],
      "execution_count": 0,
      "outputs": []
    },
    {
      "metadata": {
        "id": "GjDPClTS6LZ-",
        "colab_type": "code",
        "colab": {
          "base_uri": "https://localhost:8080/",
          "height": 217
        },
        "outputId": "c459c8d2-7de6-4387-9225-c70e00a15e31"
      },
      "cell_type": "code",
      "source": [
        "# model fitting\n",
        "model.fit(x_train, y_train, epochs=5)"
      ],
      "execution_count": 18,
      "outputs": [
        {
          "output_type": "stream",
          "text": [
            "Epoch 1/5\n",
            "50000/50000 [==============================] - 15s 298us/step - loss: 14.5052 - acc: 0.1001\n",
            "Epoch 2/5\n",
            "50000/50000 [==============================] - 14s 290us/step - loss: 14.5063 - acc: 0.1000\n",
            "Epoch 3/5\n",
            "50000/50000 [==============================] - 15s 291us/step - loss: 14.5063 - acc: 0.1000\n",
            "Epoch 4/5\n",
            "50000/50000 [==============================] - 15s 292us/step - loss: 14.5063 - acc: 0.1000\n",
            "Epoch 5/5\n",
            "50000/50000 [==============================] - 15s 290us/step - loss: 14.5063 - acc: 0.1000\n"
          ],
          "name": "stdout"
        },
        {
          "output_type": "execute_result",
          "data": {
            "text/plain": [
              "<tensorflow.python.keras.callbacks.History at 0x7fc78c9a00f0>"
            ]
          },
          "metadata": {
            "tags": []
          },
          "execution_count": 18
        }
      ]
    },
    {
      "metadata": {
        "id": "OQPGdkZmBExd",
        "colab_type": "text"
      },
      "cell_type": "markdown",
      "source": [
        "As we can see the accuracy is constantly low. One reason of this might be that we have not normalized our data. Let's do so and observe what happens."
      ]
    },
    {
      "metadata": {
        "id": "-meQ2AZhBXY7",
        "colab_type": "code",
        "colab": {}
      },
      "cell_type": "code",
      "source": [
        "# normalizing\n",
        "x_train = tf.keras.utils.normalize(x_train, axis=1)\n",
        "x_test = tf.keras.utils.normalize(x_test, axis=1)"
      ],
      "execution_count": 0,
      "outputs": []
    },
    {
      "metadata": {
        "id": "XZ5n4WQABs0O",
        "colab_type": "code",
        "colab": {
          "base_uri": "https://localhost:8080/",
          "height": 347
        },
        "outputId": "9eb4ffaa-ecfa-4385-e897-377235449594"
      },
      "cell_type": "code",
      "source": [
        "plt.imshow(x_train[0])\n",
        "plt.axis('off')\n",
        "plt.show()"
      ],
      "execution_count": 21,
      "outputs": [
        {
          "output_type": "display_data",
          "data": {
            "image/png": "[encoded data removed]",
            "text/plain": [
              "<matplotlib.figure.Figure at 0x7fc78c9a0240>"
            ]
          },
          "metadata": {
            "tags": []
          }
        }
      ]
    },
    {
      "metadata": {
        "id": "UjYMouFOCBWj",
        "colab_type": "text"
      },
      "cell_type": "markdown",
      "source": [
        "Lets see the performance of the same model on normalized data."
      ]
    },
    {
      "metadata": {
        "id": "g8wHji6gCSa0",
        "colab_type": "text"
      },
      "cell_type": "markdown",
      "source": [
        "The model is already built and compiled so lets just fit it."
      ]
    },
    {
      "metadata": {
        "id": "jU7BxR_4B5Ba",
        "colab_type": "code",
        "colab": {
          "base_uri": "https://localhost:8080/",
          "height": 217
        },
        "outputId": "d961ee1a-0431-4343-d04e-010fc91a9936"
      },
      "cell_type": "code",
      "source": [
        "# model fitting\n",
        "model.fit(x_train, y_train, epochs=5)"
      ],
      "execution_count": 22,
      "outputs": [
        {
          "output_type": "stream",
          "text": [
            "Epoch 1/5\n",
            "50000/50000 [==============================] - 16s 314us/step - loss: 2.1894 - acc: 0.1934\n",
            "Epoch 2/5\n",
            "50000/50000 [==============================] - 15s 304us/step - loss: 2.0478 - acc: 0.2617\n",
            "Epoch 3/5\n",
            "50000/50000 [==============================] - 15s 303us/step - loss: 1.9817 - acc: 0.2944\n",
            "Epoch 4/5\n",
            "50000/50000 [==============================] - 15s 302us/step - loss: 1.9240 - acc: 0.3205\n",
            "Epoch 5/5\n",
            "50000/50000 [==============================] - 15s 297us/step - loss: 1.8724 - acc: 0.3397\n"
          ],
          "name": "stdout"
        },
        {
          "output_type": "execute_result",
          "data": {
            "text/plain": [
              "<tensorflow.python.keras.callbacks.History at 0x7fc78c631da0>"
            ]
          },
          "metadata": {
            "tags": []
          },
          "execution_count": 22
        }
      ]
    },
    {
      "metadata": {
        "id": "QFTWNfMKDA4q",
        "colab_type": "text"
      },
      "cell_type": "markdown",
      "source": [
        "As we can see good improvement per epoch let's increase number of epoch to see the performance of our model."
      ]
    },
    {
      "metadata": {
        "id": "8wSYhzL0DJkv",
        "colab_type": "code",
        "colab": {
          "base_uri": "https://localhost:8080/",
          "height": 945
        },
        "outputId": "d45f0e1f-d6a8-4ac8-fa96-51a960686065"
      },
      "cell_type": "code",
      "source": [
        "# improving the same model\n",
        "model.fit(x_train, y_train, epochs=25)"
      ],
      "execution_count": 23,
      "outputs": [
        {
          "output_type": "stream",
          "text": [
            "Epoch 1/25\n",
            "50000/50000 [==============================] - 15s 295us/step - loss: 1.8295 - acc: 0.3559\n",
            "Epoch 2/25\n",
            "50000/50000 [==============================] - 15s 298us/step - loss: 1.7938 - acc: 0.3683\n",
            "Epoch 3/25\n",
            "50000/50000 [==============================] - 15s 304us/step - loss: 1.7637 - acc: 0.3789\n",
            "Epoch 4/25\n",
            "50000/50000 [==============================] - 15s 304us/step - loss: 1.7338 - acc: 0.3901\n",
            "Epoch 5/25\n",
            "50000/50000 [==============================] - 16s 319us/step - loss: 1.7092 - acc: 0.3988\n",
            "Epoch 6/25\n",
            "50000/50000 [==============================] - 16s 319us/step - loss: 1.6885 - acc: 0.4054\n",
            "Epoch 7/25\n",
            "50000/50000 [==============================] - 15s 301us/step - loss: 1.6675 - acc: 0.4132\n",
            "Epoch 8/25\n",
            "50000/50000 [==============================] - 16s 311us/step - loss: 1.6470 - acc: 0.4211\n",
            "Epoch 9/25\n",
            "50000/50000 [==============================] - 15s 298us/step - loss: 1.6287 - acc: 0.4279\n",
            "Epoch 10/25\n",
            "50000/50000 [==============================] - 15s 306us/step - loss: 1.6100 - acc: 0.4332\n",
            "Epoch 11/25\n",
            "50000/50000 [==============================] - 15s 306us/step - loss: 1.5941 - acc: 0.4378\n",
            "Epoch 12/25\n",
            "50000/50000 [==============================] - 15s 303us/step - loss: 1.5783 - acc: 0.4441\n",
            "Epoch 13/25\n",
            "50000/50000 [==============================] - 15s 301us/step - loss: 1.5635 - acc: 0.4504\n",
            "Epoch 14/25\n",
            "50000/50000 [==============================] - 15s 299us/step - loss: 1.5480 - acc: 0.4563\n",
            "Epoch 15/25\n",
            "50000/50000 [==============================] - 15s 299us/step - loss: 1.5339 - acc: 0.4593\n",
            "Epoch 16/25\n",
            "50000/50000 [==============================] - 15s 298us/step - loss: 1.5188 - acc: 0.4635\n",
            "Epoch 17/25\n",
            "50000/50000 [==============================] - 15s 301us/step - loss: 1.5069 - acc: 0.4704\n",
            "Epoch 18/25\n",
            "50000/50000 [==============================] - 15s 300us/step - loss: 1.4917 - acc: 0.4750\n",
            "Epoch 19/25\n",
            "50000/50000 [==============================] - 15s 298us/step - loss: 1.4772 - acc: 0.4800\n",
            "Epoch 20/25\n",
            "50000/50000 [==============================] - 15s 296us/step - loss: 1.4657 - acc: 0.4847\n",
            "Epoch 21/25\n",
            "50000/50000 [==============================] - 15s 307us/step - loss: 1.4553 - acc: 0.4856\n",
            "Epoch 22/25\n",
            "50000/50000 [==============================] - 15s 301us/step - loss: 1.4419 - acc: 0.4915\n",
            "Epoch 23/25\n",
            "50000/50000 [==============================] - 15s 301us/step - loss: 1.4295 - acc: 0.4977\n",
            "Epoch 24/25\n",
            "50000/50000 [==============================] - 15s 304us/step - loss: 1.4194 - acc: 0.4985\n",
            "Epoch 25/25\n",
            "50000/50000 [==============================] - 15s 301us/step - loss: 1.4073 - acc: 0.5058\n"
          ],
          "name": "stdout"
        },
        {
          "output_type": "execute_result",
          "data": {
            "text/plain": [
              "<tensorflow.python.keras.callbacks.History at 0x7fc78c631240>"
            ]
          },
          "metadata": {
            "tags": []
          },
          "execution_count": 23
        }
      ]
    },
    {
      "metadata": {
        "id": "ALl5h8JwE2By",
        "colab_type": "text"
      },
      "cell_type": "markdown",
      "source": [
        "So we can say that we have got a baseline training performance. But let's see how our network performs on unseen data to verify that our model hasn't just memorized."
      ]
    },
    {
      "metadata": {
        "id": "-8152j-REyBr",
        "colab_type": "code",
        "colab": {
          "base_uri": "https://localhost:8080/",
          "height": 72
        },
        "outputId": "fa2bdbd0-f3ea-414d-b2a1-42af1a49f54e"
      },
      "cell_type": "code",
      "source": [
        "val_loss, val_acc = model.evaluate(x_test, y_test)\n",
        "print(val_loss)\n",
        "print(val_acc)"
      ],
      "execution_count": 24,
      "outputs": [
        {
          "output_type": "stream",
          "text": [
            "10000/10000 [==============================] - 1s 140us/step\n",
            "1.6169710195541382\n",
            "0.4251\n"
          ],
          "name": "stdout"
        }
      ]
    },
    {
      "metadata": {
        "id": "2l2FykpZGkiu",
        "colab_type": "text"
      },
      "cell_type": "markdown",
      "source": [
        "As we can see that training accuracy and test accuracy close to each other we can say that we are not overfitting the network and improve its performance."
      ]
    },
    {
      "metadata": {
        "id": "NntPeiB6G_u1",
        "colab_type": "text"
      },
      "cell_type": "markdown",
      "source": [
        "**Improving the model**\n",
        "\n",
        "Lets start playing with the parameters. Lets change number of neurons, number of layers, learning rate, momentum, activation functions, batch size etc. \n",
        "\n",
        "If we want to have all possible permutations and combinations it will take forever, so we are choosing random values of parameters with constraint that no parameter values are close. e.g. model1 = 3 layers (3072 - 512 - 10) with activations functions tanh, softmax. while model2 = 5 layers (3072 - 384 - 384 - 48 - 10) with activation functions ReLU and softmax, adam optimizer. etc\n",
        "\n",
        "We are also keeping a few parameters constant like activation function of output layer to be softmax. We are also keeping number of epochs to be 30 for comparing perfomance of different models after the same number of iterations. "
      ]
    },
    {
      "metadata": {
        "id": "Crh63tiqOGSd",
        "colab_type": "code",
        "colab": {}
      },
      "cell_type": "code",
      "source": [
        "# Lets calculate f1 score\n",
        "\n",
        "# Formula for f score is ----> F(β)=(1+β^2)⋅(PR/(ββP+R))\n",
        "\n",
        "def f1_score(y_true, y_pred):\n",
        "    y_true = tf.cast(y_true, \"int32\")\n",
        "    y_pred = tf.cast(tf.round(y_pred), \"int32\") # implicit 0.5 threshold via tf.round\n",
        "    y_correct = y_true * y_pred\n",
        "    sum_true = tf.reduce_sum(y_true, axis=1)\n",
        "    sum_pred = tf.reduce_sum(y_pred, axis=1)\n",
        "    sum_correct = tf.reduce_sum(y_correct, axis=1)\n",
        "    precision = sum_correct / sum_pred\n",
        "    recall = sum_correct / sum_true\n",
        "    f_score = 2 * precision * recall / (precision + recall)\n",
        "    f_score = tf.where(tf.is_nan(f_score), tf.zeros_like(f_score), f_score)\n",
        "    return tf.reduce_mean(f_score)\n"
      ],
      "execution_count": 0,
      "outputs": []
    },
    {
      "metadata": {
        "id": "cbJAb7jcZxXz",
        "colab_type": "text"
      },
      "cell_type": "markdown",
      "source": [
        "**Model_1**"
      ]
    },
    {
      "metadata": {
        "id": "ebOUT70vG6r3",
        "colab_type": "code",
        "colab": {}
      },
      "cell_type": "code",
      "source": [
        "# model_1\n",
        "model_1 = tf.keras.models.Sequential()\n",
        "model_1.add(tf.keras.layers.Flatten(input_shape=(32, 32, 3)))\n",
        "model_1.add(tf.keras.layers.Dense(512, activation=tf.nn.tanh))\n",
        "model_1.add(tf.keras.layers.Dense(10, activation=tf.nn.softmax))\n",
        "\n",
        "model_1.compile(optimizer='sgd',\n",
        "              loss='sparse_categorical_crossentropy',\n",
        "              metrics=['accuracy',f1_score])"
      ],
      "execution_count": 0,
      "outputs": []
    },
    {
      "metadata": {
        "id": "tGqj1RwaPn-i",
        "colab_type": "code",
        "colab": {
          "base_uri": "https://localhost:8080/",
          "height": 217
        },
        "outputId": "e94e7953-e186-459c-ce40-0c6a63e6bebc"
      },
      "cell_type": "code",
      "source": [
        "model_1.fit(x_train, y_train, epochs=5)"
      ],
      "execution_count": 38,
      "outputs": [
        {
          "output_type": "stream",
          "text": [
            "Epoch 1/5\n",
            "50000/50000 [==============================] - 25s 502us/step - loss: 2.1148 - acc: 0.2351 - f1_score: 0.0093\n",
            "Epoch 2/5\n",
            "50000/50000 [==============================] - 24s 484us/step - loss: 2.0216 - acc: 0.2877 - f1_score: 0.0387\n",
            "Epoch 3/5\n",
            "50000/50000 [==============================] - 24s 483us/step - loss: 1.9844 - acc: 0.3042 - f1_score: 0.0622\n",
            "Epoch 4/5\n",
            "50000/50000 [==============================] - 24s 483us/step - loss: 1.9569 - acc: 0.3160 - f1_score: 0.0786\n",
            "Epoch 5/5\n",
            "50000/50000 [==============================] - 24s 489us/step - loss: 1.9360 - acc: 0.3269 - f1_score: 0.0927\n"
          ],
          "name": "stdout"
        },
        {
          "output_type": "execute_result",
          "data": {
            "text/plain": [
              "<tensorflow.python.keras.callbacks.History at 0x7fc78ad754e0>"
            ]
          },
          "metadata": {
            "tags": []
          },
          "execution_count": 38
        }
      ]
    },
    {
      "metadata": {
        "id": "xr8IleC1WTHg",
        "colab_type": "text"
      },
      "cell_type": "markdown",
      "source": [
        "Wonderful! Now that we have calculated f1 score, lets run this model for 30 epochs"
      ]
    },
    {
      "metadata": {
        "id": "hUiuV_R6WjNW",
        "colab_type": "code",
        "colab": {
          "base_uri": "https://localhost:8080/",
          "height": 945
        },
        "outputId": "f46d9f8e-f381-48a4-e31b-a79952edba73"
      },
      "cell_type": "code",
      "source": [
        "model_1.fit(x_train, y_train, epochs=25)"
      ],
      "execution_count": 39,
      "outputs": [
        {
          "output_type": "stream",
          "text": [
            "Epoch 1/25\n",
            "50000/50000 [==============================] - 25s 494us/step - loss: 1.9197 - acc: 0.3362 - f1_score: 0.1095\n",
            "Epoch 2/25\n",
            "50000/50000 [==============================] - 24s 488us/step - loss: 1.9045 - acc: 0.3414 - f1_score: 0.1209\n",
            "Epoch 3/25\n",
            "50000/50000 [==============================] - 24s 489us/step - loss: 1.8929 - acc: 0.3463 - f1_score: 0.1321\n",
            "Epoch 4/25\n",
            "50000/50000 [==============================] - 25s 495us/step - loss: 1.8821 - acc: 0.3505 - f1_score: 0.1373\n",
            "Epoch 5/25\n",
            "50000/50000 [==============================] - 24s 489us/step - loss: 1.8727 - acc: 0.3558 - f1_score: 0.1471\n",
            "Epoch 6/25\n",
            "50000/50000 [==============================] - 24s 488us/step - loss: 1.8640 - acc: 0.3590 - f1_score: 0.1529\n",
            "Epoch 7/25\n",
            "50000/50000 [==============================] - 24s 489us/step - loss: 1.8562 - acc: 0.3616 - f1_score: 0.1599\n",
            "Epoch 8/25\n",
            "50000/50000 [==============================] - 25s 490us/step - loss: 1.8472 - acc: 0.3652 - f1_score: 0.1644\n",
            "Epoch 9/25\n",
            "50000/50000 [==============================] - 25s 493us/step - loss: 1.8383 - acc: 0.3709 - f1_score: 0.1728\n",
            "Epoch 10/25\n",
            "50000/50000 [==============================] - 25s 496us/step - loss: 1.8305 - acc: 0.3725 - f1_score: 0.1749\n",
            "Epoch 11/25\n",
            "50000/50000 [==============================] - 25s 493us/step - loss: 1.8243 - acc: 0.3738 - f1_score: 0.1835\n",
            "Epoch 12/25\n",
            "50000/50000 [==============================] - 26s 524us/step - loss: 1.8153 - acc: 0.3766 - f1_score: 0.1853\n",
            "Epoch 13/25\n",
            "50000/50000 [==============================] - 25s 495us/step - loss: 1.8078 - acc: 0.3815 - f1_score: 0.1925\n",
            "Epoch 14/25\n",
            "50000/50000 [==============================] - 25s 493us/step - loss: 1.7989 - acc: 0.3840 - f1_score: 0.1994\n",
            "Epoch 15/25\n",
            "50000/50000 [==============================] - 25s 494us/step - loss: 1.7914 - acc: 0.3879 - f1_score: 0.2063\n",
            "Epoch 16/25\n",
            "50000/50000 [==============================] - 24s 489us/step - loss: 1.7839 - acc: 0.3881 - f1_score: 0.2111\n",
            "Epoch 17/25\n",
            "50000/50000 [==============================] - 24s 485us/step - loss: 1.7761 - acc: 0.3898 - f1_score: 0.2171\n",
            "Epoch 18/25\n",
            "50000/50000 [==============================] - 25s 491us/step - loss: 1.7698 - acc: 0.3938 - f1_score: 0.2246\n",
            "Epoch 19/25\n",
            "50000/50000 [==============================] - 25s 492us/step - loss: 1.7622 - acc: 0.3960 - f1_score: 0.2264\n",
            "Epoch 20/25\n",
            "50000/50000 [==============================] - 24s 487us/step - loss: 1.7552 - acc: 0.3981 - f1_score: 0.2337\n",
            "Epoch 21/25\n",
            "50000/50000 [==============================] - 25s 492us/step - loss: 1.7469 - acc: 0.4003 - f1_score: 0.2424\n",
            "Epoch 22/25\n",
            "50000/50000 [==============================] - 25s 494us/step - loss: 1.7420 - acc: 0.4032 - f1_score: 0.2419\n",
            "Epoch 23/25\n",
            "50000/50000 [==============================] - 25s 494us/step - loss: 1.7354 - acc: 0.4060 - f1_score: 0.2472\n",
            "Epoch 24/25\n",
            "50000/50000 [==============================] - 26s 521us/step - loss: 1.7280 - acc: 0.4080 - f1_score: 0.2571\n",
            "Epoch 25/25\n",
            "50000/50000 [==============================] - 25s 503us/step - loss: 1.7208 - acc: 0.4082 - f1_score: 0.2567\n"
          ],
          "name": "stdout"
        },
        {
          "output_type": "execute_result",
          "data": {
            "text/plain": [
              "<tensorflow.python.keras.callbacks.History at 0x7fc78b141710>"
            ]
          },
          "metadata": {
            "tags": []
          },
          "execution_count": 39
        }
      ]
    },
    {
      "metadata": {
        "id": "Cpyr83b0ZOcG",
        "colab_type": "text"
      },
      "cell_type": "markdown",
      "source": [
        "**Model_2**\n"
      ]
    },
    {
      "metadata": {
        "id": "c6X3qpoGZHid",
        "colab_type": "code",
        "colab": {}
      },
      "cell_type": "code",
      "source": [
        "model_2 = tf.keras.models.Sequential()\n",
        "model_2.add(tf.keras.layers.Flatten(input_shape=(32, 32, 3)))\n",
        "model_2.add(tf.keras.layers.Dense(384, activation=tf.nn.relu))\n",
        "model_2.add(tf.keras.layers.Dense(384, activation=tf.nn.relu))\n",
        "model_2.add(tf.keras.layers.Dense(48, activation=tf.nn.relu))\n",
        "model_2.add(tf.keras.layers.Dense(10, activation=tf.nn.softmax))\n",
        "\n",
        "model_2.compile(optimizer='adam',\n",
        "              loss='sparse_categorical_crossentropy',\n",
        "              metrics=['accuracy',f1_score])"
      ],
      "execution_count": 0,
      "outputs": []
    },
    {
      "metadata": {
        "id": "8hwxEiiGaa39",
        "colab_type": "code",
        "colab": {
          "base_uri": "https://localhost:8080/",
          "height": 217
        },
        "outputId": "60d49673-135a-4651-e174-6cde17d73a72"
      },
      "cell_type": "code",
      "source": [
        "model_2.fit(x_train, y_train, epochs=5)"
      ],
      "execution_count": 41,
      "outputs": [
        {
          "output_type": "stream",
          "text": [
            "Epoch 1/5\n",
            "50000/50000 [==============================] - 36s 718us/step - loss: 2.0469 - acc: 0.2485 - f1_score: 0.0670\n",
            "Epoch 2/5\n",
            "50000/50000 [==============================] - 35s 704us/step - loss: 1.8663 - acc: 0.3294 - f1_score: 0.1675\n",
            "Epoch 3/5\n",
            "50000/50000 [==============================] - 36s 727us/step - loss: 1.7910 - acc: 0.3602 - f1_score: 0.2277\n",
            "Epoch 4/5\n",
            "50000/50000 [==============================] - 36s 713us/step - loss: 1.7387 - acc: 0.3777 - f1_score: 0.2765\n",
            "Epoch 5/5\n",
            "50000/50000 [==============================] - 36s 712us/step - loss: 1.6958 - acc: 0.3964 - f1_score: 0.3145\n"
          ],
          "name": "stdout"
        },
        {
          "output_type": "execute_result",
          "data": {
            "text/plain": [
              "<tensorflow.python.keras.callbacks.History at 0x7fc78a871d30>"
            ]
          },
          "metadata": {
            "tags": []
          },
          "execution_count": 41
        }
      ]
    },
    {
      "metadata": {
        "id": "aXLmrr2bbN3a",
        "colab_type": "text"
      },
      "cell_type": "markdown",
      "source": [
        "This model looks promising. Just after 5 iterarations the accuracy is almost 40%.  "
      ]
    },
    {
      "metadata": {
        "id": "k08Ij4RDblns",
        "colab_type": "code",
        "colab": {
          "base_uri": "https://localhost:8080/",
          "height": 945
        },
        "outputId": "c1486b92-692c-4ebb-e01b-06f2f83b4014"
      },
      "cell_type": "code",
      "source": [
        "model_2.fit(x_train, y_train, epochs=25)"
      ],
      "execution_count": 42,
      "outputs": [
        {
          "output_type": "stream",
          "text": [
            "Epoch 1/25\n",
            "50000/50000 [==============================] - 36s 714us/step - loss: 1.6640 - acc: 0.4060 - f1_score: 0.3494\n",
            "Epoch 2/25\n",
            "50000/50000 [==============================] - 35s 706us/step - loss: 1.6366 - acc: 0.4180 - f1_score: 0.3757\n",
            "Epoch 3/25\n",
            "50000/50000 [==============================] - 35s 706us/step - loss: 1.6096 - acc: 0.4277 - f1_score: 0.3985\n",
            "Epoch 4/25\n",
            "50000/50000 [==============================] - 35s 703us/step - loss: 1.5884 - acc: 0.4351 - f1_score: 0.4181\n",
            "Epoch 5/25\n",
            "50000/50000 [==============================] - 35s 709us/step - loss: 1.5612 - acc: 0.4447 - f1_score: 0.4387\n",
            "Epoch 6/25\n",
            "50000/50000 [==============================] - 36s 716us/step - loss: 1.5409 - acc: 0.4504 - f1_score: 0.4564\n",
            "Epoch 7/25\n",
            "50000/50000 [==============================] - 38s 755us/step - loss: 1.5187 - acc: 0.4589 - f1_score: 0.4778\n",
            "Epoch 8/25\n",
            "50000/50000 [==============================] - 36s 718us/step - loss: 1.5036 - acc: 0.4646 - f1_score: 0.4923\n",
            "Epoch 9/25\n",
            "50000/50000 [==============================] - 36s 724us/step - loss: 1.4866 - acc: 0.4699 - f1_score: 0.5084\n",
            "Epoch 10/25\n",
            "50000/50000 [==============================] - 37s 735us/step - loss: 1.4700 - acc: 0.4783 - f1_score: 0.5228\n",
            "Epoch 11/25\n",
            "50000/50000 [==============================] - 37s 734us/step - loss: 1.4510 - acc: 0.4838 - f1_score: 0.5411\n",
            "Epoch 12/25\n",
            "50000/50000 [==============================] - 37s 734us/step - loss: 1.4388 - acc: 0.4884 - f1_score: 0.5587\n",
            "Epoch 13/25\n",
            "50000/50000 [==============================] - 36s 730us/step - loss: 1.4280 - acc: 0.4903 - f1_score: 0.5714\n",
            "Epoch 14/25\n",
            "50000/50000 [==============================] - 36s 726us/step - loss: 1.4087 - acc: 0.4972 - f1_score: 0.5800\n",
            "Epoch 15/25\n",
            "50000/50000 [==============================] - 38s 761us/step - loss: 1.3949 - acc: 0.5020 - f1_score: 0.5923\n",
            "Epoch 16/25\n",
            "50000/50000 [==============================] - 37s 731us/step - loss: 1.3844 - acc: 0.5066 - f1_score: 0.6047\n",
            "Epoch 17/25\n",
            "50000/50000 [==============================] - 37s 735us/step - loss: 1.3672 - acc: 0.5136 - f1_score: 0.6131\n",
            "Epoch 18/25\n",
            "50000/50000 [==============================] - 37s 736us/step - loss: 1.3584 - acc: 0.5160 - f1_score: 0.6299\n",
            "Epoch 19/25\n",
            "50000/50000 [==============================] - 37s 737us/step - loss: 1.3457 - acc: 0.5208 - f1_score: 0.6439\n",
            "Epoch 20/25\n",
            "50000/50000 [==============================] - 37s 733us/step - loss: 1.3364 - acc: 0.5240 - f1_score: 0.6531\n",
            "Epoch 21/25\n",
            "50000/50000 [==============================] - 37s 748us/step - loss: 1.3202 - acc: 0.5279 - f1_score: 0.6647\n",
            "Epoch 22/25\n",
            "50000/50000 [==============================] - 36s 726us/step - loss: 1.3105 - acc: 0.5326 - f1_score: 0.6723\n",
            "Epoch 23/25\n",
            "50000/50000 [==============================] - 36s 725us/step - loss: 1.3012 - acc: 0.5356 - f1_score: 0.6798\n",
            "Epoch 24/25\n",
            "50000/50000 [==============================] - 38s 764us/step - loss: 1.2900 - acc: 0.5396 - f1_score: 0.6896\n",
            "Epoch 25/25\n",
            "50000/50000 [==============================] - 36s 721us/step - loss: 1.2809 - acc: 0.5410 - f1_score: 0.7026\n"
          ],
          "name": "stdout"
        },
        {
          "output_type": "execute_result",
          "data": {
            "text/plain": [
              "<tensorflow.python.keras.callbacks.History at 0x7fc78aaf7320>"
            ]
          },
          "metadata": {
            "tags": []
          },
          "execution_count": 42
        }
      ]
    },
    {
      "metadata": {
        "id": "HGri7kikfg-5",
        "colab_type": "text"
      },
      "cell_type": "markdown",
      "source": [
        "We can say that this model is better than our baseline model. Let's verify it using different validation splits."
      ]
    },
    {
      "metadata": {
        "id": "6cJSFunAguPc",
        "colab_type": "text"
      },
      "cell_type": "markdown",
      "source": [
        "The model is same but we are going to perform different validation splits on it.\n"
      ]
    },
    {
      "metadata": {
        "id": "lrvFurZTiShW",
        "colab_type": "code",
        "colab": {
          "base_uri": "https://localhost:8080/",
          "height": 163
        },
        "outputId": "8a57066b-1765-4263-a32f-d6ffdd7d14f2"
      },
      "cell_type": "code",
      "source": [
        "model_2.fit(x_train, y_train, validation_split = 0.2, epochs=3)"
      ],
      "execution_count": 46,
      "outputs": [
        {
          "output_type": "stream",
          "text": [
            "Train on 40000 samples, validate on 10000 samples\n",
            "Epoch 1/3\n",
            "40000/40000 [==============================] - 32s 790us/step - loss: 1.2646 - acc: 0.5487 - f1_score: 0.7100 - val_loss: 1.2399 - val_acc: 0.5576 - val_f1_score: 0.7009\n",
            "Epoch 2/3\n",
            "40000/40000 [==============================] - 30s 747us/step - loss: 1.2463 - acc: 0.5562 - f1_score: 0.7327 - val_loss: 1.2819 - val_acc: 0.5382 - val_f1_score: 0.7161\n",
            "Epoch 3/3\n",
            "40000/40000 [==============================] - 30s 746us/step - loss: 1.2376 - acc: 0.5603 - f1_score: 0.7397 - val_loss: 1.2899 - val_acc: 0.5414 - val_f1_score: 0.7253\n"
          ],
          "name": "stdout"
        },
        {
          "output_type": "execute_result",
          "data": {
            "text/plain": [
              "<tensorflow.python.keras.callbacks.History at 0x7fc789f55588>"
            ]
          },
          "metadata": {
            "tags": []
          },
          "execution_count": 46
        }
      ]
    },
    {
      "metadata": {
        "id": "NP0DOV91jAfY",
        "colab_type": "text"
      },
      "cell_type": "markdown",
      "source": [
        "Lets change the size of validation set."
      ]
    },
    {
      "metadata": {
        "id": "leqiDnDwjEEc",
        "colab_type": "code",
        "colab": {
          "base_uri": "https://localhost:8080/",
          "height": 163
        },
        "outputId": "a470f0a4-bb36-4e9f-85f4-b56e28795879"
      },
      "cell_type": "code",
      "source": [
        "model_2.fit(x_train, y_train, validation_split = 0.33, epochs=3)"
      ],
      "execution_count": 47,
      "outputs": [
        {
          "output_type": "stream",
          "text": [
            "Train on 33500 samples, validate on 16500 samples\n",
            "Epoch 1/3\n",
            "33500/33500 [==============================] - 26s 776us/step - loss: 1.2184 - acc: 0.5671 - f1_score: 0.7514 - val_loss: 1.3357 - val_acc: 0.5230 - val_f1_score: 0.7053\n",
            "Epoch 2/3\n",
            "33500/33500 [==============================] - 27s 793us/step - loss: 1.2021 - acc: 0.5720 - f1_score: 0.7661 - val_loss: 1.2853 - val_acc: 0.5434 - val_f1_score: 0.7353\n",
            "Epoch 3/3\n",
            "33500/33500 [==============================] - 26s 785us/step - loss: 1.1855 - acc: 0.5796 - f1_score: 0.7805 - val_loss: 1.3040 - val_acc: 0.5338 - val_f1_score: 0.7406\n"
          ],
          "name": "stdout"
        },
        {
          "output_type": "execute_result",
          "data": {
            "text/plain": [
              "<tensorflow.python.keras.callbacks.History at 0x7fc789fd04a8>"
            ]
          },
          "metadata": {
            "tags": []
          },
          "execution_count": 47
        }
      ]
    },
    {
      "metadata": {
        "id": "YOZ-1PjEjhgv",
        "colab_type": "text"
      },
      "cell_type": "markdown",
      "source": [
        "We can see that as we changed validation split from 0.2 to 0.33 difference between accuracy and validation accuracy increased. Therefore, We can say that validation split of 0.2 is better than 0.33. \n",
        "\n",
        "Let's go to project part 2 now."
      ]
    }
  ]
}